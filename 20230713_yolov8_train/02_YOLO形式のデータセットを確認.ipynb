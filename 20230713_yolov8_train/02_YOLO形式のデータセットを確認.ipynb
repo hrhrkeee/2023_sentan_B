{
 "cells": [
  {
   "cell_type": "code",
   "execution_count": 10,
   "metadata": {},
   "outputs": [
    {
     "name": "stdout",
     "output_type": "stream",
     "text": [
      "The autoreload extension is already loaded. To reload it, use:\n",
      "  %reload_ext autoreload\n"
     ]
    },
    {
     "ename": "ValueError",
     "evalue": "setting an array element with a sequence. The requested array has an inhomogeneous shape after 1 dimensions. The detected shape was (3,) + inhomogeneous part.",
     "output_type": "error",
     "traceback": [
      "\u001b[1;31m---------------------------------------------------------------------------\u001b[0m",
      "\u001b[1;31mValueError\u001b[0m                                Traceback (most recent call last)",
      "Cell \u001b[1;32mIn[10], line 16\u001b[0m\n\u001b[0;32m     14\u001b[0m imgs \u001b[39m=\u001b[39m {}\n\u001b[0;32m     15\u001b[0m \u001b[39mfor\u001b[39;00m i \u001b[39min\u001b[39;00m random\u001b[39m.\u001b[39msample(\u001b[39mrange\u001b[39m(\u001b[39mlen\u001b[39m(yolo_data_train)), \u001b[39m5\u001b[39m):\n\u001b[1;32m---> 16\u001b[0m     yolo_data \u001b[39m=\u001b[39m yolo_data_train[i]\n\u001b[0;32m     18\u001b[0m     res \u001b[39m=\u001b[39m Results(\n\u001b[0;32m     19\u001b[0m         orig_img  \u001b[39m=\u001b[39m yolo_data[\u001b[39m\"\u001b[39m\u001b[39morig_img\u001b[39m\u001b[39m\"\u001b[39m],\n\u001b[0;32m     20\u001b[0m         path      \u001b[39m=\u001b[39m yolo_data[\u001b[39m\"\u001b[39m\u001b[39mimg_path\u001b[39m\u001b[39m\"\u001b[39m],\n\u001b[1;32m   (...)\u001b[0m\n\u001b[0;32m     24\u001b[0m         keypoints \u001b[39m=\u001b[39m yolo_data[\u001b[39m\"\u001b[39m\u001b[39mkeypoints\u001b[39m\u001b[39m\"\u001b[39m],\n\u001b[0;32m     25\u001b[0m     )\n\u001b[0;32m     27\u001b[0m     imgs[i] \u001b[39m=\u001b[39m res\u001b[39m.\u001b[39mplot()[:, :, ::\u001b[39m-\u001b[39m\u001b[39m1\u001b[39m]\n",
      "File \u001b[1;32mc:\\Users\\hirahara\\Documents\\Python Scripts\\sentan2023\\20230713_yolov8_train\\utils.py:87\u001b[0m, in \u001b[0;36mYOLO_dataset.__getitem__\u001b[1;34m(self, key)\u001b[0m\n\u001b[0;32m     85\u001b[0m data[\u001b[39m\"\u001b[39m\u001b[39mbboxes\u001b[39m\u001b[39m\"\u001b[39m] \u001b[39m=\u001b[39m np\u001b[39m.\u001b[39marray(bboxes, dtype\u001b[39m=\u001b[39m\u001b[39mfloat\u001b[39m)\n\u001b[0;32m     86\u001b[0m data[\u001b[39m\"\u001b[39m\u001b[39mkeypoints\u001b[39m\u001b[39m\"\u001b[39m] \u001b[39m=\u001b[39m np\u001b[39m.\u001b[39marray(keypoints, dtype\u001b[39m=\u001b[39m\u001b[39mfloat\u001b[39m)\n\u001b[1;32m---> 87\u001b[0m data[\u001b[39m\"\u001b[39m\u001b[39mmasks\u001b[39m\u001b[39m\"\u001b[39m]     \u001b[39m=\u001b[39m np\u001b[39m.\u001b[39;49marray(masks, dtype\u001b[39m=\u001b[39;49m\u001b[39mfloat\u001b[39;49m)\n\u001b[0;32m     89\u001b[0m \u001b[39mreturn\u001b[39;00m data\n",
      "\u001b[1;31mValueError\u001b[0m: setting an array element with a sequence. The requested array has an inhomogeneous shape after 1 dimensions. The detected shape was (3,) + inhomogeneous part."
     ]
    }
   ],
   "source": [
    "%load_ext autoreload\n",
    "%autoreload 2\n",
    "%matplotlib inline\n",
    "\n",
    "import random\n",
    "from pathlib import Path\n",
    "from ultralytics.yolo.engine.results import Results\n",
    "\n",
    "import utils\n",
    "\n",
    "config_path = Path(\"./dataset/sample_dataset/yolo_dataset/config.yaml\")\n",
    "yolo_data_train = utils.YOLO_dataset(str(config_path), \"train\")\n",
    "\n",
    "imgs = {}\n",
    "for i in random.sample(range(len(yolo_data_train)), 5):\n",
    "    yolo_data = yolo_data_train[i]\n",
    "\n",
    "    res = Results(\n",
    "        orig_img  = yolo_data[\"orig_img\"],\n",
    "        path      = yolo_data[\"img_path\"],\n",
    "        names     = yolo_data_train.class_name,\n",
    "        boxes     = yolo_data[\"bboxes\"],\n",
    "        masks     = yolo_data[\"masks\"],\n",
    "        keypoints = yolo_data[\"keypoints\"],\n",
    "    )\n",
    "\n",
    "    imgs[i] = res.plot()[:, :, ::-1]\n",
    "\n",
    "utils.show_imgs(imgs, ncol=5, dpi=500)"
   ]
  }
 ],
 "metadata": {
  "kernelspec": {
   "display_name": "sentan",
   "language": "python",
   "name": "python3"
  },
  "language_info": {
   "codemirror_mode": {
    "name": "ipython",
    "version": 3
   },
   "file_extension": ".py",
   "mimetype": "text/x-python",
   "name": "python",
   "nbconvert_exporter": "python",
   "pygments_lexer": "ipython3",
   "version": "3.9.12"
  },
  "orig_nbformat": 4
 },
 "nbformat": 4,
 "nbformat_minor": 2
}
