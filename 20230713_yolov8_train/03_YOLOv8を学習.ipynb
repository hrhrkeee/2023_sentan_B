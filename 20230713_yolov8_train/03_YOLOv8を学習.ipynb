{
 "cells": [
  {
   "cell_type": "code",
   "execution_count": null,
   "metadata": {},
   "outputs": [],
   "source": [
    "import random, datetime\n",
    "from pathlib import Path\n",
    "\n",
    "from ultralytics import YOLO\n",
    "\n",
    "from ultralytics.yolo.utils import set_settings, DATASETS_DIR\n",
    "yolo_dataset = Path(\"./dataset/sample_dataset/yolo_dataset/config.yaml\")\n",
    "set_settings({\"datasets_dir\": str(yolo_dataset.parent.parent.resolve())})\n",
    "print(DATASETS_DIR)\n",
    "\n",
    "print(Path(DATASETS_DIR).exists())\n"
   ]
  },
  {
   "cell_type": "code",
   "execution_count": 2,
   "metadata": {},
   "outputs": [
    {
     "name": "stderr",
     "output_type": "stream",
     "text": [
      "                 Class     Images  Instances      Box(P          R      mAP50  mAP50-95): 100%|██████████| 1/1 [00:00<00:00,  2.45it/s]\n",
      "                   all          8         68     0.0267      0.603     0.0827     0.0185\n"
     ]
    },
    {
     "name": "stderr",
     "output_type": "stream",
     "text": [
      "\n",
      "      Epoch    GPU_mem   box_loss   cls_loss   dfl_loss  Instances       Size\n",
      "       5/10      1.48G      2.467      3.338      2.469        190        640: 100%|██████████| 1/1 [00:00<00:00,  2.81it/s]\n",
      "                 Class     Images  Instances      Box(P          R      mAP50  mAP50-95):   0%|          | 0/1 [00:00<?, ?it/s]"
     ]
    }
   ],
   "source": [
    "import random, datetime\n",
    "from pathlib import Path\n",
    "\n",
    "from ultralytics import YOLO\n",
    "\n",
    "dt_now = datetime.datetime.now().strftime('%Y%m%d-%H%M')\n",
    "\n",
    "yolo_model_path = Path(\"./models/yolov8n.pt\")\n",
    "model = YOLO(str(yolo_model_path))\n",
    "\n",
    "if yolo_dataset.suffix != \".yaml\":\n",
    "    raise \"not yaml\"\n",
    "\n",
    "seed = -1\n",
    "if seed < 0:\n",
    "    seed = random.randint(1, 10000000)\n",
    "\n",
    "print(Path(DATASETS_DIR).exists())\n",
    "\n",
    "model.train(\n",
    "                data    = str(yolo_dataset), \n",
    "                epochs  = 10,\n",
    "                patience = 0,\n",
    "                name    = f\"{dt_now}_{yolo_model_path.stem}_{yolo_dataset.parent.name}\",\n",
    "                project = \"./output/yolov8/\",\n",
    "                seed    = seed\n",
    "            )\n"
   ]
  }
 ],
 "metadata": {
  "kernelspec": {
   "display_name": "aiaug",
   "language": "python",
   "name": "python3"
  },
  "language_info": {
   "codemirror_mode": {
    "name": "ipython",
    "version": 3
   },
   "file_extension": ".py",
   "mimetype": "text/x-python",
   "name": "python",
   "nbconvert_exporter": "python",
   "pygments_lexer": "ipython3",
   "version": "3.9.12"
  },
  "orig_nbformat": 4
 },
 "nbformat": 4,
 "nbformat_minor": 2
}
