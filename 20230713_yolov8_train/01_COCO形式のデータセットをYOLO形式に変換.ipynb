{
 "cells": [
  {
   "cell_type": "code",
   "execution_count": 11,
   "metadata": {},
   "outputs": [
    {
     "name": "stdout",
     "output_type": "stream",
     "text": [
      "The autoreload extension is already loaded. To reload it, use:\n",
      "  %reload_ext autoreload\n"
     ]
    },
    {
     "name": "stderr",
     "output_type": "stream",
     "text": [
      "coco2yolo:train: 100%|██████████| 9/9 [00:00<00:00, 33.40it/s]"
     ]
    },
    {
     "name": "stdout",
     "output_type": "stream",
     "text": [
      "dataset\\sample_dataset\\yolo_dataset\\config.yaml\n"
     ]
    },
    {
     "name": "stderr",
     "output_type": "stream",
     "text": [
      "\n"
     ]
    }
   ],
   "source": [
    "%load_ext autoreload\n",
    "%autoreload 2\n",
    "%matplotlib inline\n",
    "\n",
    "import kwcoco\n",
    "import utils\n",
    "\n",
    "\n",
    "coco = kwcoco.CocoDataset(\"./dataset/sample_dataset/coco_dataset/sentan_dataset.json\")\n",
    "\n",
    "config_yaml = utils.coco2yolo(\n",
    "                            output_dir = \"./dataset/sample_dataset/yolo_dataset/\",\n",
    "                            train      = coco,\n",
    "                            task       = \"segmentation\",\n",
    "                            exist_ok   = True\n",
    "                            )\n",
    "\n",
    "print(config_yaml)"
   ]
  }
 ],
 "metadata": {
  "kernelspec": {
   "display_name": "sentan",
   "language": "python",
   "name": "python3"
  },
  "language_info": {
   "codemirror_mode": {
    "name": "ipython",
    "version": 3
   },
   "file_extension": ".py",
   "mimetype": "text/x-python",
   "name": "python",
   "nbconvert_exporter": "python",
   "pygments_lexer": "ipython3",
   "version": "3.9.12"
  },
  "orig_nbformat": 4
 },
 "nbformat": 4,
 "nbformat_minor": 2
}
