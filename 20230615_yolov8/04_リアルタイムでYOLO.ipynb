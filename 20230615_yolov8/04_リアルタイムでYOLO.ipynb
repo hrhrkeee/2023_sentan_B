{
 "cells": [
  {
   "cell_type": "code",
   "execution_count": 1,
   "metadata": {},
   "outputs": [],
   "source": [
    "import cv2\n",
    "import IPython\n",
    "from PIL import Image\n",
    "from io import BytesIO\n",
    "from ultralytics import YOLO\n",
    "\n",
    "model_size = [\"n\", \"s\", \"m\", \"l\", \"x\"][0]\n",
    "model = YOLO(f\"./models/yolov8{model_size}.pt\")\n",
    "\n",
    "def show_camera(device=0, fmt=\"jpeg\"):\n",
    "\n",
    "    cap = cv2.VideoCapture(device)\n",
    "    assert cap.isOpened(), 'Could not open video device'\n",
    "\n",
    "    try:\n",
    "        while(True):\n",
    "            ret, frame = cap.read()\n",
    "\n",
    "            if ret:\n",
    "                frame = cv2.cvtColor(frame, cv2.COLOR_BGR2RGB)\n",
    "                result = model(\n",
    "                                source    = frame,\n",
    "                                conf      = 0.1,\n",
    "                                iou       = 0.001,\n",
    "                                save      = False,\n",
    "                                max_det   = 300,\n",
    "                                augment   = True,\n",
    "                                classes   = None, # [1, 2, 3],\n",
    "                            )\n",
    "\n",
    "\n",
    "                frame = result[0].plot()\n",
    "\n",
    "                f = BytesIO()\n",
    "                Image.fromarray(frame).save(f, fmt)\n",
    "                IPython.display.display(IPython.display.Image(data=f.getvalue()))\n",
    "                \n",
    "                IPython.display.clear_output(wait=True)\n",
    "\n",
    "    except KeyboardInterrupt:\n",
    "        cap.release()\n",
    "        print('Stream stopped')\n",
    "\n",
    "    return None"
   ]
  },
  {
   "cell_type": "code",
   "execution_count": 2,
   "metadata": {},
   "outputs": [
    {
     "name": "stdout",
     "output_type": "stream",
     "text": [
      "Stream stopped\n"
     ]
    }
   ],
   "source": [
    "\n",
    "\n",
    "\n",
    "show_camera()"
   ]
  }
 ],
 "metadata": {
  "kernelspec": {
   "display_name": "sentan",
   "language": "python",
   "name": "python3"
  },
  "language_info": {
   "codemirror_mode": {
    "name": "ipython",
    "version": 3
   },
   "file_extension": ".py",
   "mimetype": "text/x-python",
   "name": "python",
   "nbconvert_exporter": "python",
   "pygments_lexer": "ipython3",
   "version": "3.9.12"
  },
  "orig_nbformat": 4
 },
 "nbformat": 4,
 "nbformat_minor": 2
}
