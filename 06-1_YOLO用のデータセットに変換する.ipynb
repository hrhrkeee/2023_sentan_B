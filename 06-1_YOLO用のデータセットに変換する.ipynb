{
 "cells": [
  {
   "cell_type": "code",
   "execution_count": 14,
   "metadata": {},
   "outputs": [
    {
     "name": "stdout",
     "output_type": "stream",
     "text": [
      "The autoreload extension is already loaded. To reload it, use:\n",
      "  %reload_ext autoreload\n"
     ]
    }
   ],
   "source": [
    "%load_ext autoreload\n",
    "%autoreload 2\n",
    "%matplotlib inline\n",
    "\n",
    "import kwcoco\n",
    "import os\n",
    "from pathlib import Path\n",
    "import shutil\n",
    "import numpy as np\n",
    "from tqdm import tqdm\n",
    "\n",
    "def coco2yolo(coco:kwcoco.coco_dataset.CocoDataset, output_dir=\".\", dataset_name:str=None):\n",
    "  # 前準備\n",
    "  if dataset_name is None or not isinstance(dataset_name, str):\n",
    "    dataset_name = str(Path(coco.fpath).name.split(\".\")[0])\n",
    "\n",
    "  base_save_dir = Path(output_dir) / Path(dataset_name)\n",
    "  save_images_dir = base_save_dir / Path(\"images\")\n",
    "  save_labels_dir = base_save_dir / Path(\"labels\")\n",
    "\n",
    "  save_images_dir.mkdir(parents=True, exist_ok=True)\n",
    "  save_labels_dir.mkdir(parents=True, exist_ok=True)\n",
    "\n",
    "  print(str(base_save_dir))\n",
    "\n",
    "  # カテゴリーを書き出す\n",
    "  with open(f'{base_save_dir}/categories.txt', mode = \"w\") as f:\n",
    "    for i in range(1, max(list(coco.cats.keys()))+1):\n",
    "      try:\n",
    "        f.write(f\"{i}: {coco.cats[i]['name']}\\n\")\n",
    "      except:\n",
    "        f.write(f\"{i}:\\n\")\n",
    "\n",
    "  # YOLOv5学習用configを書き出す\n",
    "  with open(f'{base_save_dir}/{dataset_name}.yaml', mode = \"w\") as f:\n",
    "    f.write(f\"path:  ../__datasets__/train_dataset/\\n\")\n",
    "    f.write(f\"train: {Path(dataset_name)}/images\\n\")\n",
    "    f.write(f\"val:   {Path(dataset_name)}/images\\n\")\n",
    "    f.write(f\"test:  {Path(dataset_name)}/images\\n\")\n",
    "    f.write(f\"\\n\")\n",
    "    f.write(f\"nc: {len(list(coco.cats.keys()))+1}\\n\")\n",
    "    \n",
    "    f.write(f\"names: \\n\")\n",
    "    for i in range(0, max(list(coco.cats.keys()))+1):\n",
    "      try:\n",
    "        f.write(f\"  {i}: {coco.cats[i]['name']}\\n\")\n",
    "      except:\n",
    "        f.write(f\"  {i}:\\n\")\n",
    "\n",
    "  # アノテーションを書き出す\n",
    "  gids = list(coco.imgs.keys())\n",
    "  for i, gid in enumerate(tqdm(gids, desc=\"coco2yolo\")):\n",
    "    img_src_path = Path(coco.get_image_fpath(gid))\n",
    "    img_dst_path = save_images_dir/img_src_path.name\n",
    "\n",
    "    if img_src_path.exists():\n",
    "      shutil.copyfile(img_src_path, img_dst_path)\n",
    "\n",
    "      img = coco.load_image(gid)\n",
    "      with open(f'{str(save_labels_dir)}/{img_dst_path.name.split(\".\")[0]}.txt', mode = \"w\") as f:\n",
    "        aids = coco.gid_to_aids[gid]\n",
    "        for j, aid in enumerate(aids):\n",
    "          cls = coco.index.anns[aid][\"category_id\"]\n",
    "\n",
    "          x, y, w, h = coco.index.anns[aid][\"bbox\"]\n",
    "          dh, dw = (1/img.shape[0], 1/img.shape[1])\n",
    "\n",
    "          center_x      = (x + w / 2) * dw\n",
    "          center_y      = (y + h / 2) * dh\n",
    "          width         = w * dw\n",
    "          height        = h * dh\n",
    "\n",
    "          center_x = max(0, min(center_x, 1.0))\n",
    "          center_y = max(0, min(center_y, 1.0))\n",
    "          width    = max(0, min(width, 1.0))\n",
    "          height   = max(0, min(height, 1.0))\n",
    "\n",
    "          f.write(f\"{cls} {center_x} {center_y} {width} {height}\\n\")\n",
    "\n",
    "  return None\n",
    "  "
   ]
  },
  {
   "cell_type": "code",
   "execution_count": 19,
   "metadata": {},
   "outputs": [
    {
     "name": "stdout",
     "output_type": "stream",
     "text": [
      "__yolo_datasets__/train_dataset/sentan_dataset_sentan_dataset\n"
     ]
    },
    {
     "name": "stderr",
     "output_type": "stream",
     "text": [
      "coco2yolo: 100%|██████████| 9/9 [00:00<00:00, 89.02it/s]\n"
     ]
    }
   ],
   "source": [
    "datasets = [\n",
    "  {\n",
    "    \"json_path\" : \"./__datasets__/sentan_dataset/sentan_dataset/sentan_dataset.json\",\n",
    "    \"img_root\"  : \"./__datasets__/sentan_dataset/sentan_dataset/\",\n",
    "  },\n",
    "]\n",
    "\n",
    "for dataset in datasets:\n",
    "  coco = kwcoco.CocoDataset(data=dataset[\"json_path\"])\n",
    "  coco.img_root = dataset[\"img_root\"]\n",
    "\n",
    "  coco2yolo(coco=coco, output_dir=\"./__yolo_datasets__/train_dataset/\", dataset_name=str(Path(dataset[\"img_root\"]).parent.name)+\"_\"+str(Path(dataset[\"img_root\"]).name))\n"
   ]
  }
 ],
 "metadata": {
  "kernelspec": {
   "display_name": "controlnet",
   "language": "python",
   "name": "python3"
  },
  "language_info": {
   "codemirror_mode": {
    "name": "ipython",
    "version": 3
   },
   "file_extension": ".py",
   "mimetype": "text/x-python",
   "name": "python",
   "nbconvert_exporter": "python",
   "pygments_lexer": "ipython3",
   "version": "3.9.12"
  },
  "orig_nbformat": 4
 },
 "nbformat": 4,
 "nbformat_minor": 2
}
