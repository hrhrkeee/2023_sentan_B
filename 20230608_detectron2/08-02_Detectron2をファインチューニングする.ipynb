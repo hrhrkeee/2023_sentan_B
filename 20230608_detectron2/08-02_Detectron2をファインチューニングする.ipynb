{
 "cells": [
  {
   "attachments": {},
   "cell_type": "markdown",
   "metadata": {},
   "source": [
    "## ファインチューニングで利用する独自データセットを確認する"
   ]
  },
  {
   "cell_type": "code",
   "execution_count": 2,
   "metadata": {},
   "outputs": [
    {
     "name": "stderr",
     "output_type": "stream",
     "text": [
      "/home/hirahara/anaconda3/envs/d2/lib/python3.9/site-packages/tqdm/auto.py:21: TqdmWarning: IProgress not found. Please update jupyter and ipywidgets. See https://ipywidgets.readthedocs.io/en/stable/user_install.html\n",
      "  from .autonotebook import tqdm as notebook_tqdm\n"
     ]
    }
   ],
   "source": [
    "%load_ext autoreload\n",
    "%autoreload 2\n",
    "%matplotlib inline\n",
    "\n",
    "import os\n",
    "import cv2\n",
    "import random\n",
    "import kwcoco, kwplot\n",
    "import matplotlib.pyplot as plt\n",
    "from pathlib import Path\n",
    "from mpl_toolkits.axes_grid1 import ImageGrid\n",
    "\n",
    "# 1枚の画像を表示する関数\n",
    "def show_img(img, dpi=150, title=None):\n",
    "    fig, ax = plt.subplots(nrows=1, ncols=1, dpi=dpi)\n",
    "    ax.set_title( title, fontsize=16, color='black')\n",
    "    ax.axis('off')\n",
    "    ax.imshow(cv2.cvtColor(img, cv2.COLOR_BGR2RGB))\n",
    "    return fig, ax\n",
    "\n",
    "# 複数枚の画像を表示する関数\n",
    "def show_imgs(imgs_dict:dict, ncol=0, dpi=200, font_scale=0.7):\n",
    "    font_size = int(plt.rcParams[\"font.size\"]*font_scale)\n",
    "\n",
    "    if ncol > 0:\n",
    "        nrow = ((len(imgs_dict)-1)//ncol)+1\n",
    "    else:\n",
    "        nrow = 1\n",
    "        ncol = len(imgs_dict)\n",
    "\n",
    "    img_num = len(imgs_dict)\n",
    "    fig = plt.figure(figsize=(float(img_num), float(img_num)), dpi=dpi)\n",
    "    grid = ImageGrid(fig, 111, nrows_ncols=(nrow, ncol), axes_pad=0.2,)\n",
    "\n",
    "    for i in range(nrow*ncol):\n",
    "        grid[i].axis('off')\n",
    "        if i < len(imgs_dict):\n",
    "            img_key = list(imgs_dict.keys())[i]\n",
    "            grid[i].imshow(cv2.cvtColor(imgs_dict[img_key], cv2.COLOR_BGR2RGB))\n",
    "            grid[i].set_title(img_key, fontsize=font_size, color='black', pad=int(font_size/2))\n",
    "    \n",
    "    plt.show(); plt.close()\n",
    "    return None"
   ]
  },
  {
   "cell_type": "code",
   "execution_count": 7,
   "metadata": {},
   "outputs": [
    {
     "name": "stdout",
     "output_type": "stream",
     "text": [
      "画像の枚数： 9\n",
      "カテゴリー数： 1\n",
      "アノテーション数： 70\n",
      "4387\n",
      "4312\n",
      "4235\n"
     ]
    },
    {
     "name": "stderr",
     "output_type": "stream",
     "text": [
      "/home/hirahara/anaconda3/envs/d2/lib/python3.9/site-packages/delayed_image/delayed_leafs.py:271: UserWarning: DelayedLoad may not be efficient without gdal\n",
      "  warnings.warn('DelayedLoad may not be efficient without gdal')\n"
     ]
    },
    {
     "name": "stdout",
     "output_type": "stream",
     "text": [
      "4338\n"
     ]
    },
    {
     "ename": "KeyError",
     "evalue": "''",
     "output_type": "error",
     "traceback": [
      "\u001b[0;31m---------------------------------------------------------------------------\u001b[0m",
      "\u001b[0;31mKeyError\u001b[0m                                  Traceback (most recent call last)",
      "Cell \u001b[0;32mIn[7], line 16\u001b[0m\n\u001b[1;32m     14\u001b[0m \u001b[39mfor\u001b[39;00m imgId \u001b[39min\u001b[39;00m sample_imgIds:\n\u001b[1;32m     15\u001b[0m     \u001b[39mprint\u001b[39m(imgId)\n\u001b[0;32m---> 16\u001b[0m     imgs[imgId] \u001b[39m=\u001b[39m cv2\u001b[39m.\u001b[39mcvtColor(coco\u001b[39m.\u001b[39;49mdraw_image(imgId), cv2\u001b[39m.\u001b[39mCOLOR_BGR2RGB)\n\u001b[1;32m     18\u001b[0m \u001b[39m# 画像を表示\u001b[39;00m\n\u001b[1;32m     19\u001b[0m show_imgs(imgs, ncol\u001b[39m=\u001b[39m\u001b[39m4\u001b[39m, dpi\u001b[39m=\u001b[39m\u001b[39m100\u001b[39m)\n",
      "File \u001b[0;32m~/anaconda3/envs/d2/lib/python3.9/site-packages/kwcoco/coco_dataset.py:3132\u001b[0m, in \u001b[0;36mMixinCocoDraw.draw_image\u001b[0;34m(self, gid, channels)\u001b[0m\n\u001b[1;32m   3130\u001b[0m cats \u001b[39m=\u001b[39m dset\u001b[39m.\u001b[39mdataset[\u001b[39m'\u001b[39m\u001b[39mcategories\u001b[39m\u001b[39m'\u001b[39m]\n\u001b[1;32m   3131\u001b[0m \u001b[39m# dets = kwimage.Detections.from_coco_annots(anns, dset=self)\u001b[39;00m\n\u001b[0;32m-> 3132\u001b[0m dets \u001b[39m=\u001b[39m kwimage\u001b[39m.\u001b[39;49mDetections\u001b[39m.\u001b[39;49mfrom_coco_annots(\n\u001b[1;32m   3133\u001b[0m     anns, classes\u001b[39m=\u001b[39;49mclasses, cats\u001b[39m=\u001b[39;49mcats, kp_classes\u001b[39m=\u001b[39;49mkp_classes)\n\u001b[1;32m   3135\u001b[0m canvas \u001b[39m=\u001b[39m dets\u001b[39m.\u001b[39mdraw_on(canvas)\n\u001b[1;32m   3136\u001b[0m \u001b[39mreturn\u001b[39;00m canvas\n",
      "File \u001b[0;32m~/anaconda3/envs/d2/lib/python3.9/site-packages/kwimage/structs/detections.py:973\u001b[0m, in \u001b[0;36mDetections.from_coco_annots\u001b[0;34m(cls, anns, cats, classes, kp_classes, shape, dset)\u001b[0m\n\u001b[1;32m    969\u001b[0m \u001b[39mif\u001b[39;00m \u001b[39mnot\u001b[39;00m (\u001b[39misinstance\u001b[39m(k, \u001b[39mlist\u001b[39m) \u001b[39mand\u001b[39;00m \u001b[39mlen\u001b[39m(k) \u001b[39mand\u001b[39;00m \u001b[39misinstance\u001b[39m(ub\u001b[39m.\u001b[39mpeek(k), \u001b[39mdict\u001b[39m)):\n\u001b[1;32m    970\u001b[0m     \u001b[39m# oldstyle\u001b[39;00m\n\u001b[1;32m    971\u001b[0m     \u001b[39mif\u001b[39;00m kp_classes \u001b[39mis\u001b[39;00m \u001b[39mnot\u001b[39;00m \u001b[39mNone\u001b[39;00m:\n\u001b[1;32m    972\u001b[0m         \u001b[39m# These are only needed for old-style coco\u001b[39;00m\n\u001b[0;32m--> 973\u001b[0m         kpcidxs \u001b[39m=\u001b[39m _lookup_kp_class_idxs(ann[\u001b[39m'\u001b[39;49m\u001b[39mcategory_id\u001b[39;49m\u001b[39m'\u001b[39;49m])\n\u001b[1;32m    975\u001b[0m pts \u001b[39m=\u001b[39m kwimage\u001b[39m.\u001b[39mPoints\u001b[39m.\u001b[39mfrom_coco(\n\u001b[1;32m    976\u001b[0m     k, class_idxs\u001b[39m=\u001b[39mkpcidxs, classes\u001b[39m=\u001b[39mkp_classes)\n\u001b[1;32m    977\u001b[0m kpts\u001b[39m.\u001b[39mappend(pts)\n",
      "File \u001b[0;32m~/anaconda3/envs/d2/lib/python3.9/site-packages/kwimage/structs/detections.py:951\u001b[0m, in \u001b[0;36mDetections.from_coco_annots.<locals>._lookup_kp_class_idxs\u001b[0;34m(cid)\u001b[0m\n\u001b[1;32m    949\u001b[0m     kpnames \u001b[39m=\u001b[39m cat[\u001b[39m'\u001b[39m\u001b[39mkeypoints\u001b[39m\u001b[39m'\u001b[39m]\n\u001b[1;32m    950\u001b[0m \u001b[39melif\u001b[39;00m parent \u001b[39mis\u001b[39;00m \u001b[39mnot\u001b[39;00m \u001b[39mNone\u001b[39;00m:\n\u001b[0;32m--> 951\u001b[0m     cid \u001b[39m=\u001b[39m name_to_cat[cat[\u001b[39m'\u001b[39;49m\u001b[39msupercategory\u001b[39;49m\u001b[39m'\u001b[39;49m]][\u001b[39m'\u001b[39m\u001b[39mid\u001b[39m\u001b[39m'\u001b[39m]\n\u001b[1;32m    952\u001b[0m \u001b[39melse\u001b[39;00m:\n\u001b[1;32m    953\u001b[0m     \u001b[39mraise\u001b[39;00m \u001b[39mKeyError\u001b[39;00m(cid)\n",
      "\u001b[0;31mKeyError\u001b[0m: ''"
     ]
    }
   ],
   "source": [
    "coco_path = Path(\"./__datasets__/sentan_dataset/sentan_dataset/sentan_dataset.json\")\n",
    "coco_img_root = Path(\"./__datasets__/sentan_dataset/sentan_dataset/\")\n",
    "\n",
    "coco = kwcoco.CocoDataset(data=coco_path, img_root=coco_img_root)\n",
    "\n",
    "print(f\"画像の枚数： {coco.n_images}\")\n",
    "print(f\"カテゴリー数： {coco.n_cats}\")\n",
    "print(f\"アノテーション数： {coco.n_annots}\")\n",
    "\n",
    "# 画像のIDを複数取得\n",
    "sample_imgIds = random.sample(list(coco.imgs.keys()), coco.n_images)\n",
    "\n",
    "imgs = {}\n",
    "for imgId in sample_imgIds:\n",
    "    imgs[imgId] = cv2.cvtColor(coco.draw_image(imgId), cv2.COLOR_BGR2RGB)\n",
    "\n",
    "# 画像を表示\n",
    "show_imgs(imgs, ncol=4, dpi=100)"
   ]
  }
 ],
 "metadata": {
  "kernelspec": {
   "display_name": "d2",
   "language": "python",
   "name": "python3"
  },
  "language_info": {
   "codemirror_mode": {
    "name": "ipython",
    "version": 3
   },
   "file_extension": ".py",
   "mimetype": "text/x-python",
   "name": "python",
   "nbconvert_exporter": "python",
   "pygments_lexer": "ipython3",
   "version": "3.9.12"
  },
  "orig_nbformat": 4
 },
 "nbformat": 4,
 "nbformat_minor": 2
}
