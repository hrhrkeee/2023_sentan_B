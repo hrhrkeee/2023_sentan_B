{
 "cells": [
  {
   "cell_type": "code",
   "execution_count": 10,
   "metadata": {},
   "outputs": [
    {
     "name": "stdout",
     "output_type": "stream",
     "text": [
      "The autoreload extension is already loaded. To reload it, use:\n",
      "  %reload_ext autoreload\n"
     ]
    }
   ],
   "source": [
    "%load_ext autoreload\n",
    "%autoreload 2\n",
    "%matplotlib inline\n",
    "\n",
    "from dartboard_evaluator import DartboardEvaluator"
   ]
  },
  {
   "cell_type": "code",
   "execution_count": 20,
   "metadata": {},
   "outputs": [
    {
     "name": "stdout",
     "output_type": "stream",
     "text": [
      "340\n"
     ]
    }
   ],
   "source": [
    "print(-20 % 360)"
   ]
  },
  {
   "cell_type": "code",
   "execution_count": 21,
   "metadata": {},
   "outputs": [
    {
     "name": "stdout",
     "output_type": "stream",
     "text": [
      "1本目の計算を行います。\n",
      "darts_distanceは1番目の円の範囲にありました。\n",
      "θは30.0°以内の位置にありました。\n",
      "200\n",
      "\n",
      "2本目の計算を行います。\n",
      "darts_distanceは2番目の円の範囲にありました。\n",
      "θは30.0°以内の位置にありました。\n",
      "160\n",
      "\n",
      "3本目の計算を行います。\n",
      "darts_distanceは3番目の円の範囲にありました。\n",
      "θは30.0°以内の位置にありました。\n",
      "40\n",
      "\n"
     ]
    }
   ],
   "source": [
    "darts_list = [\n",
    "    {\n",
    "        \"ball_distance\":0.1,  # [px]\n",
    "        \"ball_radian\"  :-20,   # [rad]\n",
    "    },\n",
    "    {\n",
    "        \"ball_distance\":0.5,  # [px]\n",
    "        \"ball_radian\"  :-20,   # [rad]\n",
    "    },\n",
    "    {\n",
    "        \"ball_distance\":0.9,  # [px]\n",
    "        \"ball_radian\"  :-20,   # [rad]\n",
    "    },\n",
    "]\n",
    "\n",
    "darts_eval = DartboardEvaluator(yolo_model_path = \"./models/20230713-1353_yolov8n_sentan-B_ball_detection_yolo3/weights/best.pt\")\n",
    "\n",
    "for i, darts in enumerate(darts_list):\n",
    "    print(\"{}本目の計算を行います。\".format(i+1))\n",
    "\n",
    "    score = darts_eval.score_calculate( ball_distance  = darts[\"ball_distance\"],\n",
    "                                        ball_radian    = darts[\"ball_radian\"])\n",
    "    print(score)\n",
    "    print()"
   ]
  }
 ],
 "metadata": {
  "kernelspec": {
   "display_name": "aiaug",
   "language": "python",
   "name": "python3"
  },
  "language_info": {
   "codemirror_mode": {
    "name": "ipython",
    "version": 3
   },
   "file_extension": ".py",
   "mimetype": "text/x-python",
   "name": "python",
   "nbconvert_exporter": "python",
   "pygments_lexer": "ipython3",
   "version": "3.9.12"
  },
  "orig_nbformat": 4
 },
 "nbformat": 4,
 "nbformat_minor": 2
}
