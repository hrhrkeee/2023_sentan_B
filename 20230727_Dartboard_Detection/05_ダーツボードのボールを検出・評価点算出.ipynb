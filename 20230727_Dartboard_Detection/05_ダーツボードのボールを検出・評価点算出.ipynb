{
 "cells": [
  {
   "cell_type": "code",
   "execution_count": 1,
   "metadata": {},
   "outputs": [],
   "source": [
    "%load_ext autoreload\n",
    "%autoreload 2\n",
    "%matplotlib inline\n",
    "\n",
    "import cv2\n",
    "import numpy as np\n",
    "from pathlib import Path\n",
    "\n",
    "import utils\n",
    "from dartboard_evaluator import DartboardEvaluator"
   ]
  },
  {
   "cell_type": "code",
   "execution_count": 6,
   "metadata": {},
   "outputs": [
    {
     "name": "stdout",
     "output_type": "stream",
     "text": [
      "score 830\n"
     ]
    },
    {
     "ename": "TypeError",
     "evalue": "show_img() missing 1 required positional argument: 'img'",
     "output_type": "error",
     "traceback": [
      "\u001b[0;31m---------------------------------------------------------------------------\u001b[0m",
      "\u001b[0;31mTypeError\u001b[0m                                 Traceback (most recent call last)",
      "Cell \u001b[0;32mIn[6], line 11\u001b[0m\n\u001b[1;32m      8\u001b[0m \u001b[39m# 画像中に文字を入力\u001b[39;00m\n\u001b[1;32m      9\u001b[0m res_img \u001b[39m=\u001b[39m cv2\u001b[39m.\u001b[39mputText(res_img, \u001b[39mstr\u001b[39m(socre), (\u001b[39m10\u001b[39m, \u001b[39m50\u001b[39m), cv2\u001b[39m.\u001b[39mFONT_HERSHEY_SIMPLEX, \u001b[39m1\u001b[39m, (\u001b[39m0\u001b[39m, \u001b[39m0\u001b[39m, \u001b[39m255\u001b[39m), \u001b[39m2\u001b[39m, cv2\u001b[39m.\u001b[39mLINE_AA)\n\u001b[0;32m---> 11\u001b[0m utils\u001b[39m.\u001b[39;49mshow_img()\n",
      "\u001b[0;31mTypeError\u001b[0m: show_img() missing 1 required positional argument: 'img'"
     ]
    }
   ],
   "source": [
    "darts_eval = DartboardEvaluator(yolo_model_path = \"./models/20230720-1229_yolov8n_sentan-B2/weights/best.pt\")\n",
    "\n",
    "img = cv2.imread(str(\"./data/dartboard_sample_03.jpg\"))[:,:,::-1]\n",
    "socre = darts_eval(img)\n",
    "\n",
    "print(\"score\", socre)\n",
    "res_img = darts_eval.get_visualized_img()\n",
    "# 画像中に文字を入力\n",
    "res_img = cv2.putText(res_img, str(socre), (10, 50), cv2.FONT_HERSHEY_SIMPLEX, 1, (0, 0, 255), 2, cv2.LINE_AA)\n",
    "\n",
    "utils.show_img(res_img)\n"
   ]
  },
  {
   "cell_type": "code",
   "execution_count": 3,
   "metadata": {},
   "outputs": [
    {
     "name": "stdout",
     "output_type": "stream",
     "text": [
      "1本目の計算を行います。\n",
      "スコア : 200 点\n",
      "\n",
      "2本目の計算を行います。\n",
      "スコア : 160 点\n",
      "\n",
      "3本目の計算を行います。\n",
      "スコア : 40 点\n",
      "\n",
      "4本目の計算を行います。\n",
      "スコア : 10 点\n",
      "\n",
      "5本目の計算を行います。\n",
      "スコア : 200 点\n",
      "\n",
      "6本目の計算を行います。\n",
      "スコア : 80 点\n",
      "\n"
     ]
    }
   ],
   "source": [
    "from dartboard_evaluator import Polar_Coordinate\n",
    "\n",
    "darts_list = [\n",
    "    Polar_Coordinate(0.10, 20),  # ボードの中心からの距離（0~1）、ボードの中心からの角度[rad]\n",
    "    Polar_Coordinate(0.50, 20),\n",
    "    Polar_Coordinate(0.90, 20),\n",
    "    Polar_Coordinate(0.90, 210),\n",
    "    Polar_Coordinate(0.05, 270),\n",
    "    Polar_Coordinate(0.40, 150),\n",
    "]\n",
    "\n",
    "darts_eval = DartboardEvaluator(yolo_model_path = \"./models/20230713-1353_yolov8n_sentan-B_ball_detection_yolo3/weights/best.pt\")\n",
    "\n",
    "for i, darts in enumerate(darts_list):\n",
    "    print(\"{}本目の計算を行います。\".format(i+1))\n",
    "\n",
    "    score = darts_eval.score_calculate(darts)\n",
    "    print(f\"スコア : {score} 点\")\n",
    "    print()"
   ]
  },
  {
   "cell_type": "code",
   "execution_count": null,
   "metadata": {},
   "outputs": [],
   "source": []
  }
 ],
 "metadata": {
  "kernelspec": {
   "display_name": "aiaug",
   "language": "python",
   "name": "python3"
  },
  "language_info": {
   "codemirror_mode": {
    "name": "ipython",
    "version": 3
   },
   "file_extension": ".py",
   "mimetype": "text/x-python",
   "name": "python",
   "nbconvert_exporter": "python",
   "pygments_lexer": "ipython3",
   "version": "3.9.12"
  },
  "orig_nbformat": 4
 },
 "nbformat": 4,
 "nbformat_minor": 2
}
