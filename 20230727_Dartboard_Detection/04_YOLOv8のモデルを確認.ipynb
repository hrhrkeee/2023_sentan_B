{
 "cells": [
  {
   "cell_type": "code",
   "execution_count": 1,
   "metadata": {},
   "outputs": [],
   "source": [
    "%load_ext autoreload\n",
    "%autoreload 2\n",
    "%matplotlib inline\n",
    "\n",
    "import cv2, random, tempfile, requests\n",
    "from ultralytics import YOLO\n",
    "from pathlib import Path\n",
    "import matplotlib.pyplot as plt\n",
    "from mpl_toolkits.axes_grid1 import ImageGrid\n",
    "\n",
    "import utils\n",
    "\n",
    "# モデルの読み込み\n",
    "# model = YOLO(f\"./models/20230713-1353_yolov8n_sentan-B_ball_detection_yolo3/weights/best.pt\")\n",
    "model = YOLO(f\"./models/20230713-1353_yolov8n_sentan-B_ball_detection_yolo3/weights/best.pt\")\n",
    "\n",
    "# YOLOv8のコンソール出力を停止\n",
    "from logging import getLogger\n",
    "logger = getLogger('ultralytics')\n",
    "logger.disabled = True\n"
   ]
  },
  {
   "cell_type": "markdown",
   "metadata": {},
   "source": [
    "### ローカルのデータセットの画像で推論を確認"
   ]
  },
  {
   "cell_type": "code",
   "execution_count": null,
   "metadata": {},
   "outputs": [],
   "source": [
    "input_img_path = [\n",
    "    Path(\"./data/dartboard_sample_01.jpg\")\n",
    "]\n",
    "\n",
    "for img_path in input_img_path:\n",
    "    result = model(\n",
    "                    source    = cv2.imread(str(img_path))[:,:,::-1],\n",
    "                    conf      = 0.4,\n",
    "                    iou       = 0.001,\n",
    "                    save      = False,\n",
    "                    max_det   = 300,\n",
    "                    augment   = True,\n",
    "                    classes   = None, # [1, 2, 3],\n",
    "                )\n",
    "\n",
    "    utils.show_img(result[0].plot())\n"
   ]
  }
 ],
 "metadata": {
  "kernelspec": {
   "display_name": "sentan",
   "language": "python",
   "name": "python3"
  },
  "language_info": {
   "codemirror_mode": {
    "name": "ipython",
    "version": 3
   },
   "file_extension": ".py",
   "mimetype": "text/x-python",
   "name": "python",
   "nbconvert_exporter": "python",
   "pygments_lexer": "ipython3",
   "version": "3.9.12"
  },
  "orig_nbformat": 4
 },
 "nbformat": 4,
 "nbformat_minor": 2
}
