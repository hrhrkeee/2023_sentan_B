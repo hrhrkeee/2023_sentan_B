{
 "cells": [
  {
   "cell_type": "code",
   "execution_count": 1,
   "metadata": {},
   "outputs": [
    {
     "name": "stderr",
     "output_type": "stream",
     "text": [
      "[ WARN:0@3.653] global cap_v4l.cpp:982 open VIDEOIO(V4L2:/dev/video0): can't open camera by index\n",
      "[ERROR:0@3.653] global obsensor_uvc_stream_channel.cpp:156 getStreamChannelGroup Camera index out of range\n"
     ]
    },
    {
     "ename": "AssertionError",
     "evalue": "Could not open video device",
     "output_type": "error",
     "traceback": [
      "\u001b[0;31m---------------------------------------------------------------------------\u001b[0m",
      "\u001b[0;31mAssertionError\u001b[0m                            Traceback (most recent call last)",
      "Cell \u001b[0;32mIn[1], line 17\u001b[0m\n\u001b[1;32m     14\u001b[0m darts_eval \u001b[39m=\u001b[39m DartboardEvaluator(yolo_model_path \u001b[39m=\u001b[39m \u001b[39m\"\u001b[39m\u001b[39m./models/20230720-1229_yolov8n_sentan-B2/weights/best.pt\u001b[39m\u001b[39m\"\u001b[39m)\n\u001b[1;32m     16\u001b[0m cap \u001b[39m=\u001b[39m cv2\u001b[39m.\u001b[39mVideoCapture(\u001b[39m0\u001b[39m)\n\u001b[0;32m---> 17\u001b[0m \u001b[39massert\u001b[39;00m cap\u001b[39m.\u001b[39misOpened(), \u001b[39m'\u001b[39m\u001b[39mCould not open video device\u001b[39m\u001b[39m'\u001b[39m\n\u001b[1;32m     21\u001b[0m \u001b[39mtry\u001b[39;00m:\n\u001b[1;32m     22\u001b[0m     \u001b[39mwhile\u001b[39;00m(\u001b[39mTrue\u001b[39;00m):\n",
      "\u001b[0;31mAssertionError\u001b[0m: Could not open video device"
     ]
    }
   ],
   "source": [
    "%load_ext autoreload\n",
    "%autoreload 2\n",
    "%matplotlib inline\n",
    "\n",
    "import cv2\n",
    "import IPython\n",
    "from PIL import Image\n",
    "from io import BytesIO\n",
    "\n",
    "import utils\n",
    "from dartboard_evaluator import DartboardEvaluator\n",
    "\n",
    "\n",
    "darts_eval = DartboardEvaluator(yolo_model_path = \"./models/20230720-1229_yolov8n_sentan-B2/weights/best.pt\")\n",
    "\n",
    "cap = cv2.VideoCapture(0)\n",
    "assert cap.isOpened(), 'Could not open video device'\n",
    "\n",
    "\n",
    "\n",
    "try:\n",
    "    while(True):\n",
    "        ret, frame = cap.read()\n",
    "\n",
    "        if ret:\n",
    "            frame = cv2.cvtColor(frame, cv2.COLOR_BGR2RGB)\n",
    "            frame = cv2.resize(frame, (640, 480))\n",
    "\n",
    "            socre = darts_eval(frame)\n",
    "            frame = darts_eval.get_visualized_img()\n",
    "            frame = cv2.putText(frame, str(socre), (10, 200), cv2.FONT_HERSHEY_SIMPLEX, 5, (0, 0, 255), 5, cv2.LINE_AA)\n",
    "\n",
    "            f = BytesIO()\n",
    "            Image.fromarray(frame).save(f, \"jpeg\")\n",
    "            IPython.display.display(IPython.display.Image(data=f.getvalue()))\n",
    "            \n",
    "            IPython.display.clear_output(wait=True)\n",
    "\n",
    "except KeyboardInterrupt:\n",
    "    cap.release()\n",
    "    print('Stream stopped')\n"
   ]
  }
 ],
 "metadata": {
  "kernelspec": {
   "display_name": "aiaug",
   "language": "python",
   "name": "python3"
  },
  "language_info": {
   "codemirror_mode": {
    "name": "ipython",
    "version": 3
   },
   "file_extension": ".py",
   "mimetype": "text/x-python",
   "name": "python",
   "nbconvert_exporter": "python",
   "pygments_lexer": "ipython3",
   "version": "3.9.12"
  },
  "orig_nbformat": 4
 },
 "nbformat": 4,
 "nbformat_minor": 2
}
