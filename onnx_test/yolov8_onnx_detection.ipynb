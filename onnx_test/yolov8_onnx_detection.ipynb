{
 "cells": [
  {
   "cell_type": "code",
   "execution_count": null,
   "metadata": {},
   "outputs": [],
   "source": [
    "import copy\n",
    "\n",
    "import cv2\n",
    "import numpy as np\n",
    "import onnxruntime\n",
    "\n",
    "class YOLO_onnx(object):\n",
    "    def __init__(   self, \n",
    "                    model_path, \n",
    "                    EP_list = ['CUDAExecutionProvider', 'CPUExecutionProvider']\n",
    "                ):\n",
    "\n",
    "                \n",
    "        ort_session = onnxruntime.InferenceSession(model_path, providers=EP_list)\n",
    "\n",
    "        model_inputs = ort_session.get_inputs()\n",
    "        self.input_names = [model_inputs[i].name for i in range(len(model_inputs))]\n",
    "        self.input_shape = model_inputs[0].shape\n",
    "\n",
    "        model_output = ort_session.get_outputs()\n",
    "        self.output_names = [model_output[i].name for i in range(len(model_output))]\n",
    "    \n",
    "        return None\n",
    "\n",
    "    def detect(self, img, conf_thres=0.5):\n",
    "        result = []\n",
    "\n",
    "        return result"
   ]
  },
  {
   "cell_type": "code",
   "execution_count": null,
   "metadata": {},
   "outputs": [],
   "source": [
    "import onnxruntime\n",
    "from pathlib import Path\n",
    "\n",
    "opt_session = onnxruntime.SessionOptions()\n",
    "opt_session.enable_mem_pattern = False\n",
    "opt_session.enable_cpu_mem_arena = False\n",
    "opt_session.graph_optimization_level = onnxruntime.GraphOptimizationLevel.ORT_DISABLE_ALL\n",
    "\n",
    "model_path = Path(\"./onnx_models/yolov8n.onnx\")\n",
    "\n",
    "EP_list = ['CUDAExecutionProvider', 'CPUExecutionProvider']\n",
    "ort_session = onnxruntime.InferenceSession(model_path, providers=EP_list)"
   ]
  }
 ],
 "metadata": {
  "kernelspec": {
   "display_name": "Python 3",
   "language": "python",
   "name": "python3"
  },
  "language_info": {
   "name": "python",
   "version": "3.10.6"
  },
  "orig_nbformat": 4
 },
 "nbformat": 4,
 "nbformat_minor": 2
}
