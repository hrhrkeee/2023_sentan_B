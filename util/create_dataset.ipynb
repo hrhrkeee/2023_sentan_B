{
 "cells": [
  {
   "cell_type": "code",
   "execution_count": 32,
   "metadata": {},
   "outputs": [
    {
     "name": "stdout",
     "output_type": "stream",
     "text": [
      "The autoreload extension is already loaded. To reload it, use:\n",
      "  %reload_ext autoreload\n"
     ]
    }
   ],
   "source": [
    "%load_ext autoreload\n",
    "%autoreload 2\n",
    "%matplotlib inline\n",
    "\n",
    "import os, sys, cv2, random, shutil\n",
    "import pandas as pd\n",
    "import seaborn as sns\n",
    "from glob import glob\n",
    "from tqdm import tqdm\n",
    "import matplotlib.pyplot as plt\n",
    "from pathlib import Path\n",
    "import numpy as np\n",
    "from mpl_toolkits.axes_grid1 import ImageGrid\n",
    "\n",
    "from coco_dataset_modules import COCO_dataset\n",
    "from coco_dataset_modules.visualizer_matplot import VisConfig\n",
    "\n",
    "def show_img(img, dpi=150, title=None):\n",
    "    fig, ax = plt.subplots(nrows=1, ncols=1, dpi=dpi)\n",
    "    ax.set_title( title, fontsize=16, color='black')\n",
    "    ax.axis('off')\n",
    "    ax.imshow(cv2.cvtColor(img, cv2.COLOR_BGR2RGB))\n",
    "    return fig, ax\n",
    "\n",
    "def show_imgs(imgs_dict:dict, ncol=0, dpi=200, font_scale=0.7):\n",
    "    font_size = int(plt.rcParams[\"font.size\"]*font_scale)\n",
    "\n",
    "    if ncol > 0:\n",
    "        nrow = ((len(imgs_dict)-1)//ncol)+1\n",
    "    else:\n",
    "        nrow = 1\n",
    "        ncol = len(imgs_dict)\n",
    "\n",
    "    img_num = len(imgs_dict)\n",
    "    fig = plt.figure(figsize=(float(img_num), float(img_num)), dpi=dpi)\n",
    "    grid = ImageGrid(fig, 111, nrows_ncols=(nrow, ncol), axes_pad=0.2,)\n",
    "\n",
    "    for i in range(nrow*ncol):\n",
    "        grid[i].axis('off')\n",
    "        if i < len(imgs_dict):\n",
    "            img_key = list(imgs_dict.keys())[i]\n",
    "            grid[i].imshow(cv2.cvtColor(imgs_dict[img_key], cv2.COLOR_BGR2RGB))\n",
    "            grid[i].set_title(img_key, fontsize=font_size, color='black', pad=int(font_size/2))\n",
    "    \n",
    "    return None\n",
    "\n",
    "def get_annotation_image(coco:COCO_dataset, imgId):\n",
    "    # アノテーション描画の設定\n",
    "    CONFIG = VisConfig()\n",
    "    CONFIG.ANNO_BBOX_VISUALIZE     = True\n",
    "    CONFIG.ANNO_KEYPOINT_VISUALIZE = True\n",
    "    CONFIG.ANNO_MASK_VISUALIZE     = True\n",
    "\n",
    "    CONFIG.ANNO_BBOX_LINE_SIZE     = 1.5\n",
    "    CONFIG.MASK_COLORFUL           = True\n",
    "    CONFIG.ANNO_MASK_LINE_WIDTH    = 4.0\n",
    "\n",
    "    image_vis = coco.vis_image_matplot(imgId=imgId, plain=False, config=CONFIG)\n",
    "    ann_img = image_vis.draw_annotations()\n",
    "\n",
    "    return ann_img"
   ]
  },
  {
   "cell_type": "code",
   "execution_count": 39,
   "metadata": {},
   "outputs": [
    {
     "name": "stdout",
     "output_type": "stream",
     "text": [
      "load json file : <./sentan_dataset01/sentan_dataset01.json>\n",
      "load json file : <./sentan_dataset/sentan_dataset/sentan_dataset.json>\n"
     ]
    },
    {
     "name": "stderr",
     "output_type": "stream",
     "text": [
      "add: 100%|██████████| 11/11 [00:00<00:00, 4206.16it/s]\n"
     ]
    },
    {
     "name": "stdout",
     "output_type": "stream",
     "text": [
      "==========情報==========================================\n",
      "JSONファイル     \t: ./sentan_dataset/sentan_dataset/sentan_dataset.json \n",
      "データセット     \t: ./sentan_dataset/sentan_dataset/ \n",
      "画像の枚数       \t: 9/9 (jsonファイル内/実際の枚数)\n",
      "画質            \t: ['960 x 1280'] \n",
      "カテゴリー       \t: [(1, 'grape_leaf')] \n",
      "アノテーション数 \t: 70 \n",
      "アノテーター     \t: ['hirahara', 'suzuki', 'Kotaro', 'Ogasawara'] \n",
      "READ_ONLY       \t: False \n",
      "==========================================================\n"
     ]
    }
   ],
   "source": [
    "coco_old = COCO_dataset(json_path=\"./sentan_dataset01/sentan_dataset01.json\")\n",
    "\n",
    "coco = COCO_dataset(json_path=\"./sentan_dataset/sentan_dataset/sentan_dataset.json\", dataset_dir=\"./sentan_dataset/sentan_dataset/\", empty_dataset=True)\n",
    "coco += coco_old\n",
    "coco.remove_zero_annotation_image()\n",
    "\n",
    "# other\n",
    "other_dir = Path(\"./sentan_dataset/other/\")\n",
    "other_dir.mkdir(exist_ok=True)\n",
    "\n",
    "old_data = [i.name for i in Path(coco_old.dataset_dir).glob(\"*.jpg\")]\n",
    "new_data = [i.name for i in Path(coco.dataset_dir).glob(\"*.jpg\")]\n",
    "diff_data = list(set(old_data) - set(new_data))\n",
    "for img_name in diff_data:\n",
    "    shutil.copy(src=Path(coco_old.dataset_dir)/img_name, dst=other_dir/img_name)\n",
    "\n",
    "# visualized\n",
    "thumb_dir = Path(\"./sentan_dataset/visualized/\")\n",
    "thumb_dir.mkdir(exist_ok=True)\n",
    "for imgId in coco.get_imgId_list():\n",
    "    ann_img = get_annotation_image(coco, imgId)\n",
    "    cv2.imwrite(str(thumb_dir/coco.image(imgId).imgInfo[\"file_name\"]), ann_img)\n",
    "\n",
    "print(coco)"
   ]
  },
  {
   "cell_type": "code",
   "execution_count": null,
   "metadata": {},
   "outputs": [],
   "source": []
  }
 ],
 "metadata": {
  "kernelspec": {
   "display_name": "controlnet",
   "language": "python",
   "name": "python3"
  },
  "language_info": {
   "codemirror_mode": {
    "name": "ipython",
    "version": 3
   },
   "file_extension": ".py",
   "mimetype": "text/x-python",
   "name": "python",
   "nbconvert_exporter": "python",
   "pygments_lexer": "ipython3",
   "version": "3.9.12"
  },
  "orig_nbformat": 4
 },
 "nbformat": 4,
 "nbformat_minor": 2
}
